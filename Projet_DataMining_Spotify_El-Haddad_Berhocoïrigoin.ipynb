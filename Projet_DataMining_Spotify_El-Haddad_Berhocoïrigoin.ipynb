{
 "cells": [
  {
   "cell_type": "markdown",
   "metadata": {},
   "source": [
    "# Projet Data Mining 2020-2021"
   ]
  },
  {
   "cell_type": "markdown",
   "metadata": {},
   "source": [
    "#### Spotify Dataset, 1921 - 2020, 160k+ Tracks"
   ]
  },
  {
   "cell_type": "markdown",
   "metadata": {},
   "source": [
    "*Source* : [Kaggle](https://www.kaggle.com/yamaerenay/spotify-dataset-19212020-160k-tracks?select=data.csv)"
   ]
  },
  {
   "cell_type": "markdown",
   "metadata": {},
   "source": [
    "El-Haddad Amal  \n",
    "Berhocoïrigoin Elena"
   ]
  },
  {
   "cell_type": "markdown",
   "metadata": {},
   "source": [
    "**Introduction** : L'objectif de ce projet est de mettre en oeuvre une approche complète de fouille de données depuis le prétraitement des données jusqu'à l'évaluation de la méthode de fouille. "
   ]
  },
  {
   "cell_type": "markdown",
   "metadata": {},
   "source": [
    "## 1 . Spotify Dataset"
   ]
  },
  {
   "cell_type": "code",
   "execution_count": 2,
   "metadata": {},
   "outputs": [],
   "source": [
    "import numpy as np \n",
    "np.set_printoptions(threshold=10000,suppress=True) \n",
    "import pandas as pd\n",
    "import warnings\n",
    "import matplotlib.pyplot as plt \n",
    "warnings.filterwarnings('ignore')"
   ]
  },
  {
   "cell_type": "markdown",
   "metadata": {},
   "source": [
    "### 1.1 Présentation des données"
   ]
  },
  {
   "cell_type": "code",
   "execution_count": 33,
   "metadata": {
    "scrolled": true
   },
   "outputs": [
    {
     "name": "stdout",
     "output_type": "stream",
     "text": [
      "Dimensions :  (170653, 19)\n"
     ]
    },
    {
     "data": {
      "text/html": [
       "<div>\n",
       "<style scoped>\n",
       "    .dataframe tbody tr th:only-of-type {\n",
       "        vertical-align: middle;\n",
       "    }\n",
       "\n",
       "    .dataframe tbody tr th {\n",
       "        vertical-align: top;\n",
       "    }\n",
       "\n",
       "    .dataframe thead th {\n",
       "        text-align: right;\n",
       "    }\n",
       "</style>\n",
       "<table border=\"1\" class=\"dataframe\">\n",
       "  <thead>\n",
       "    <tr style=\"text-align: right;\">\n",
       "      <th></th>\n",
       "      <th>valence</th>\n",
       "      <th>year</th>\n",
       "      <th>acousticness</th>\n",
       "      <th>artists</th>\n",
       "      <th>danceability</th>\n",
       "      <th>duration_ms</th>\n",
       "      <th>energy</th>\n",
       "      <th>explicit</th>\n",
       "      <th>id</th>\n",
       "      <th>instrumentalness</th>\n",
       "      <th>key</th>\n",
       "      <th>liveness</th>\n",
       "      <th>loudness</th>\n",
       "      <th>mode</th>\n",
       "      <th>name</th>\n",
       "      <th>popularity</th>\n",
       "      <th>release_date</th>\n",
       "      <th>speechiness</th>\n",
       "      <th>tempo</th>\n",
       "    </tr>\n",
       "  </thead>\n",
       "  <tbody>\n",
       "    <tr>\n",
       "      <td>0</td>\n",
       "      <td>0.0594</td>\n",
       "      <td>1921</td>\n",
       "      <td>0.982</td>\n",
       "      <td>['Sergei Rachmaninoff', 'James Levine', 'Berli...</td>\n",
       "      <td>0.279</td>\n",
       "      <td>831667</td>\n",
       "      <td>0.211</td>\n",
       "      <td>0</td>\n",
       "      <td>4BJqT0PrAfrxzMOxytFOIz</td>\n",
       "      <td>0.878</td>\n",
       "      <td>10</td>\n",
       "      <td>0.665</td>\n",
       "      <td>-20.096</td>\n",
       "      <td>1</td>\n",
       "      <td>Piano Concerto No. 3 in D Minor, Op. 30: III. ...</td>\n",
       "      <td>4</td>\n",
       "      <td>1921</td>\n",
       "      <td>0.0366</td>\n",
       "      <td>80.954</td>\n",
       "    </tr>\n",
       "    <tr>\n",
       "      <td>1</td>\n",
       "      <td>0.9630</td>\n",
       "      <td>1921</td>\n",
       "      <td>0.732</td>\n",
       "      <td>['Dennis Day']</td>\n",
       "      <td>0.819</td>\n",
       "      <td>180533</td>\n",
       "      <td>0.341</td>\n",
       "      <td>0</td>\n",
       "      <td>7xPhfUan2yNtyFG0cUWkt8</td>\n",
       "      <td>0.000</td>\n",
       "      <td>7</td>\n",
       "      <td>0.160</td>\n",
       "      <td>-12.441</td>\n",
       "      <td>1</td>\n",
       "      <td>Clancy Lowered the Boom</td>\n",
       "      <td>5</td>\n",
       "      <td>1921</td>\n",
       "      <td>0.4150</td>\n",
       "      <td>60.936</td>\n",
       "    </tr>\n",
       "    <tr>\n",
       "      <td>2</td>\n",
       "      <td>0.0394</td>\n",
       "      <td>1921</td>\n",
       "      <td>0.961</td>\n",
       "      <td>['KHP Kridhamardawa Karaton Ngayogyakarta Hadi...</td>\n",
       "      <td>0.328</td>\n",
       "      <td>500062</td>\n",
       "      <td>0.166</td>\n",
       "      <td>0</td>\n",
       "      <td>1o6I8BglA6ylDMrIELygv1</td>\n",
       "      <td>0.913</td>\n",
       "      <td>3</td>\n",
       "      <td>0.101</td>\n",
       "      <td>-14.850</td>\n",
       "      <td>1</td>\n",
       "      <td>Gati Bali</td>\n",
       "      <td>5</td>\n",
       "      <td>1921</td>\n",
       "      <td>0.0339</td>\n",
       "      <td>110.339</td>\n",
       "    </tr>\n",
       "  </tbody>\n",
       "</table>\n",
       "</div>"
      ],
      "text/plain": [
       "   valence  year  acousticness  \\\n",
       "0   0.0594  1921         0.982   \n",
       "1   0.9630  1921         0.732   \n",
       "2   0.0394  1921         0.961   \n",
       "\n",
       "                                             artists  danceability  \\\n",
       "0  ['Sergei Rachmaninoff', 'James Levine', 'Berli...         0.279   \n",
       "1                                     ['Dennis Day']         0.819   \n",
       "2  ['KHP Kridhamardawa Karaton Ngayogyakarta Hadi...         0.328   \n",
       "\n",
       "   duration_ms  energy  explicit                      id  instrumentalness  \\\n",
       "0       831667   0.211         0  4BJqT0PrAfrxzMOxytFOIz             0.878   \n",
       "1       180533   0.341         0  7xPhfUan2yNtyFG0cUWkt8             0.000   \n",
       "2       500062   0.166         0  1o6I8BglA6ylDMrIELygv1             0.913   \n",
       "\n",
       "   key  liveness  loudness  mode  \\\n",
       "0   10     0.665   -20.096     1   \n",
       "1    7     0.160   -12.441     1   \n",
       "2    3     0.101   -14.850     1   \n",
       "\n",
       "                                                name  popularity release_date  \\\n",
       "0  Piano Concerto No. 3 in D Minor, Op. 30: III. ...           4         1921   \n",
       "1                            Clancy Lowered the Boom           5         1921   \n",
       "2                                          Gati Bali           5         1921   \n",
       "\n",
       "   speechiness    tempo  \n",
       "0       0.0366   80.954  \n",
       "1       0.4150   60.936  \n",
       "2       0.0339  110.339  "
      ]
     },
     "execution_count": 33,
     "metadata": {},
     "output_type": "execute_result"
    }
   ],
   "source": [
    "#Charger le dataset :\n",
    "spotify = pd.read_csv('./data.csv',sep=\",\",header=0)\n",
    "#Afficher les dimensions du dataframe ainsi que les trois premières lignes :\n",
    "print(\"Dimensions : \", spotify.shape)\n",
    "spotify.head(3)"
   ]
  },
  {
   "cell_type": "code",
   "execution_count": 57,
   "metadata": {
    "scrolled": false
   },
   "outputs": [
    {
     "name": "stdout",
     "output_type": "stream",
     "text": [
      "                    Types     na          max     min\n",
      "acousticness      float64  False        0.996     0.0\n",
      "artists            object  False          NaN     NaN\n",
      "danceability      float64  False        0.988     0.0\n",
      "duration_ms         int64  False  5403500.000  5108.0\n",
      "energy            float64  False        1.000     0.0\n",
      "explicit            int64  False        1.000     0.0\n",
      "id                 object  False          NaN     NaN\n",
      "instrumentalness  float64  False        1.000     0.0\n",
      "key                 int64  False       11.000     0.0\n",
      "liveness          float64  False        1.000     0.0\n",
      "loudness          float64  False        3.855   -60.0\n",
      "mode                int64  False        1.000     0.0\n",
      "name               object  False          NaN     NaN\n",
      "popularity          int64  False      100.000     0.0\n",
      "release_date       object  False          NaN     NaN\n",
      "speechiness       float64  False        0.970     0.0\n",
      "tempo             float64  False      243.507     0.0\n",
      "valence           float64  False        1.000     0.0\n",
      "year                int64  False     2020.000  1921.0\n"
     ]
    }
   ],
   "source": [
    "#Vérifier le type des variables et la présence ou non de valeurs manquantes :\n",
    "types = pd.DataFrame(spotify.dtypes, columns = [\"Types\"])\n",
    "NaN = pd.DataFrame(spotify.isna().any(), columns = [\"na\"])\n",
    "#Récupérer le min et le max des variables pour lesquelles ça fait sens :\n",
    "Max = pd.DataFrame(spotify.drop(columns = [\"artists\", \"id\", \"name\", \"release_date\"]).max(axis=0), columns = [\"max\"])\n",
    "Min = pd.DataFrame(spotify.drop(columns = [\"artists\", \"id\", \"name\", \"release_date\"]).min(axis=0), columns = [\"min\"])\n",
    "#Rassembler les valeurs dans un seul data frame :\n",
    "result = pd.merge(types, NaN, left_index = True, right_index = True, how=\"outer\")\n",
    "result = pd.merge(result, Max, left_index = True, right_index = True, how=\"outer\")\n",
    "result = pd.merge(result, Min, left_index = True, right_index = True, how=\"outer\")\n",
    "#Afficher le résultat :\n",
    "print(result)"
   ]
  },
  {
   "cell_type": "markdown",
   "metadata": {},
   "source": [
    "Jettons un coup d'oeil aux 19 variables que nous avons dans notre jeu de données :"
   ]
  },
  {
   "cell_type": "markdown",
   "metadata": {},
   "source": [
    "**Variables numériques** :  \n",
    "- <span style=\"color: #26B260\"> **acousticness** </span> <span style=\"color: #6ac580\">Intervalle de 0 à 1</span> : Cette valeur décrit le degré d'\"acoustique\" de la chanson. Un score de 1.0 signifie qu'il est fort probable que le titre soit une musique acoustique, autrement dit qu'aucun instrument électronique moderne n'ait été employé (ex : guitare électrique, violon électrique, synthétiseur, ordinateur, sampleur ...)\n",
    "- <span style=\"color: #26B260\">**danceability**</span> <span style=\"color: #6ac580\">Intervalle de 0 à 1</span> : Une valeur de 1 signifie que le titre est aproprié pour danser, une valeur de 0, qu'il est difficile de danser sur cette musique. Le score s'appuie sur une combinaison d'éléments, dont le tempo, la stabilité du rythme, la régularité générale.\n",
    "- <span style=\"color: #26B260\">**energy**</span> <span style=\"color: #6ac580\">Intervalle de 0 à 1</span> : Cette valeur rend compte de l'intensité et de l'activité perçue d'un titre. Typiquement, une musique énergique (score proche de 1.0) aura tendance à être rapide, sonore et bruyante. Le death metal aura ainsi une valeur élevée, contrairement à un prélude de Bach par exemple. Les caractéristiques perceptuelles contribuant à cet attribut comprennent la gamme dynamique, l'intensité sonore perçue, le timbre, l'attaque et l'entropie générale.\n",
    "- <span style=\"color: #26B260\">**duration_ms**</span> <span style=\"color: #6ac580\">Entier variant généralement entre 200k et 300k</span> : Durée du morceau en millisecondes.\n",
    "- <span style=\"color: #26B260\">**instrumentalness**</span> <span style=\"color: #6ac580\">Intervalle de 0 à 1</span> : Cette valeur rend compte de la présence ou non de chant, et de la place qu'il occupe dans la musique. Les sons \"Ooh\" et \"aah\" sont considérés comme \"instrumentaux\" dans ce contexte. Plus le score est proche de 1.0, plus il est probable que la piste ne contienne pas de contenu vocal (>0.5). Les morceaux de rap auront ainsi de faible valeur pour cette mesure, contrairement à de la musique classique par exemple.\n",
    "- <span style=\"color: #26B260\">**valence**</span> <span style=\"color: #6ac580\">Intervalle de 0 à 1</span> : Cette valeur décrit la \"positivité musicale\" du morceau. Les titres à forte valence sonnent plus positif (i.e heureux, joyeux, euphorique), tandis que les morceaux à faible valence sonnent plus négatif (i.e triste, déprimé, énervé).\n",
    "- <span style=\"color: #26B260\">**popularity**</span> <span style=\"color: #6ac580\">Intervalle de 0 à 100</span> : Popularité du morceau. Elle est calculée par un algorithme et est basée, en grande partie, sur le nombre total de lectures du titre et sur leur caractère récent (i.e les chansons qui sont beaucoup écoutées aujourd'hui auront un score plus élevé que les pistes qui ont été beaucoup jouées par le passé).\n",
    "- <span style=\"color: #26B260\">**tempo**</span> <span style=\"color: #6ac580\">Flottant variant généralement entre 50 et 150</span> : Tempo global estimé d'un morceau en battements par minute (BPM). Dans la terminologie musicale, le tempo est la vitesse ou le rythme d'un morceau donné et découle directement de la durée moyenne des battements.\n",
    "- <span style=\"color: #26B260\">**liveness**</span> <span style=\"color: #6ac580\">Intervalle de 0 à 1</span> : Cette valeur décrit la probabilité que la chanson ait été enregistrée avec un public en direct. Une valeur supérieure à 0,8 signifie qu'il est fort probable que le morceau ait été enregistré en live.\n",
    "- <span style=\"color: #26B260\">**loudness**</span> <span style=\"color: #6ac580\">Flottant variant généralement entre -60 et 0 db</span> : Intensité sonore globale d'une piste en décibels (dB). Les valeurs d'intensité sonore sont calculées en moyenne sur l'ensemble du morceau.\n",
    "- <span style=\"color: #26B260\">**speechiness**</span> <span style=\"color: #6ac580\">Intervalle de 0 à 1</span> : Cette mesure détecte la présence de mots parlés dans une piste. Plus l'enregistrement est exclusivement vocal (par exemple talk-show, livre audio, poésie), plus la valeur de l'attribut est proche de 1,0. Les valeurs supérieures à 0,66 décrivent des pistes qui sont probablement entièrement constituées de mots parlés. Les valeurs entre 0,33 et 0,66 décrivent des pistes qui peuvent contenir à la fois de la musique et de la parole (y compris rap). Les valeurs inférieures à 0,33 représentent des pistes probablement musicales et d'autres pistes non vocales. \n",
    "- <span style=\"color: #26B260\">**year**</span> <span style=\"color: #6ac580\">Intervalle de 1921 à 2020</span> : Année de sortie du titre.\n",
    "  \n",
    "**Variables catégorielles**:    \n",
    "- <span style=\"color: #26B260\">**mode**</span> <span style=\"color: #6ac580\">0 = Mineur, 1 = Majeur</span> : Mode - mineur ou majeur - du morceau. Détermine la couleur du morceau.\n",
    "- <span style=\"color: #26B260\">**explicit**</span> <span style=\"color: #6ac580\">0 = Pas de contenu explicite - ou inconnu, 1 = Contenu explicite</span> : Présence de paroles explicites ou non.\n",
    "- <span style=\"color: #26B260\">**key**</span> <span style=\"color: #6ac580\"> Entier variant de 0 à 11 </span> : Tonalité estimée du morceau. Toutes les tonalités sont codées comme des valeurs allant de 0 à 11 selon l'échelle des hauteurs standard, en commancant par 0 : Do (C) ; 1 : Do♯/Ré♭ (C♯/D♭) ; 2 : Ré (D) [etc](https://fr.wikipedia.org/wiki/Hauteur_(musique)). Si aucune tonalité n'a été détectée, la valeur est -1, ce n'est pas le cas dans notre jeu de données.\n",
    "- <span style=\"color: #26B260\">**artists**</span> : Liste des artistes mentionnées.\n",
    "- <span style=\"color: #26B260\">**release_date**</span> : Date de sortie au format yyyy-mm-dd, la plupart du temps. Toutefois, la précision peut varier d'un titre à l'autre (seulement yyyy ou yyyy-mm).\n",
    "- <span style=\"color: #26B260\">**name**</span> : Nom de la chanson.\n",
    "- <span style=\"color: #26B260\">**id**</span> : Id Spotify de la piste."
   ]
  },
  {
   "cell_type": "code",
   "execution_count": null,
   "metadata": {},
   "outputs": [],
   "source": [
    "#Retirer la colonne \"id\" qui ne sera pas utile pour l'analyse :\n",
    "spotify.drop(columns=\"id\", inplace = True)"
   ]
  },
  {
   "cell_type": "markdown",
   "metadata": {},
   "source": [
    "Le mois de sortie du titre pourrait avoir une influence sur sa popularité (ex : sortie durant l'été). De la variable \"release_date\" nous ne garderons donc que cette information lorsqu'elle est disponible (puisque nous avons déjà une colonne pour l'année de sortie) :"
   ]
  },
  {
   "cell_type": "code",
   "execution_count": null,
   "metadata": {},
   "outputs": [],
   "source": [
    "#Récupérer le mois de sortie du titre :\n",
    "import re\n",
    "re.sub( expression à chercher, par quoi la remplacer (\\<numero du groupe> par\n",
    "ex), la chaîne d’origine )\n",
    "#Supprimer la colonne \"release_date\" désormais inutile :"
   ]
  },
  {
   "cell_type": "markdown",
   "metadata": {},
   "source": [
    "### 1.2 Statistiques et Analyses Préliminaires"
   ]
  },
  {
   "cell_type": "code",
   "execution_count": null,
   "metadata": {},
   "outputs": [],
   "source": []
  }
 ],
 "metadata": {
  "kernelspec": {
   "display_name": "Python 3",
   "language": "python",
   "name": "python3"
  },
  "language_info": {
   "codemirror_mode": {
    "name": "ipython",
    "version": 3
   },
   "file_extension": ".py",
   "mimetype": "text/x-python",
   "name": "python",
   "nbconvert_exporter": "python",
   "pygments_lexer": "ipython3",
   "version": "3.7.4"
  }
 },
 "nbformat": 4,
 "nbformat_minor": 2
}
